{
 "cells": [
  {
   "cell_type": "code",
   "execution_count": 3,
   "id": "4ced8785-cdd1-4371-88f9-10fbffeeb2cb",
   "metadata": {},
   "outputs": [],
   "source": [
    "import spacy\n",
    "from spacy import displacy\n",
    "import pandas as pd\n",
    "from collections import defaultdict"
   ]
  },
  {
   "cell_type": "code",
   "execution_count": 4,
   "id": "8ae91bdd-7f06-4958-9c02-c5c2a094bd73",
   "metadata": {},
   "outputs": [],
   "source": [
    "def load_conll_data(file_path):\n",
    "    sentences = []\n",
    "    sentence = []\n",
    "    \n",
    "    with open(file_path, 'r', encoding='utf-8') as f:\n",
    "        for line in f:\n",
    "            line = line.strip()\n",
    "            if not line:\n",
    "                if sentence:\n",
    "                    sentences.append(sentence)\n",
    "                    sentence = []\n",
    "            else:\n",
    "                # Split line: word, POS, chunk, NER\n",
    "                parts = line.split()\n",
    "                if len(parts) == 4:\n",
    "                    word, pos, chunk, ner = parts\n",
    "                    sentence.append((word, ner))\n",
    "    if sentence:\n",
    "        sentences.append(sentence)\n",
    "    return sentences"
   ]
  },
  {
   "cell_type": "code",
   "execution_count": 5,
   "id": "cb947162-9360-4e8b-a21e-632b5c9b9a2d",
   "metadata": {},
   "outputs": [
    {
     "name": "stdout",
     "output_type": "stream",
     "text": [
      "Number of training sentences: 14987\n",
      "First training sentence: [('-DOCSTART-', 'O')]\n"
     ]
    }
   ],
   "source": [
    "# Load datasets\n",
    "train_data = load_conll_data(\"train.txt\")\n",
    "valid_data = load_conll_data(\"valid.txt\")\n",
    "test_data  = load_conll_data(\"test.txt\")\n",
    "\n",
    "print(f\"Number of training sentences: {len(train_data)}\")\n",
    "print(f\"First training sentence: {train_data[0]}\")"
   ]
  },
  {
   "cell_type": "code",
   "execution_count": 6,
   "id": "19a19aa6-cc7d-47d4-b826-d21483f4f213",
   "metadata": {},
   "outputs": [],
   "source": [
    "def convert_to_text(sentences):\n",
    "    texts = []\n",
    "    for sent in sentences:\n",
    "        words = [word for word, tag in sent]\n",
    "        text = \" \".join(words)\n",
    "        texts.append(text)\n",
    "    return texts\n",
    "\n",
    "train_texts = convert_to_text(train_data)\n",
    "valid_texts = convert_to_text(valid_data)\n",
    "test_texts  = convert_to_text(test_data)"
   ]
  },
  {
   "cell_type": "code",
   "execution_count": 7,
   "id": "9efd5dc5-3cd2-4d44-85fc-98cebe84184e",
   "metadata": {},
   "outputs": [
    {
     "name": "stdout",
     "output_type": "stream",
     "text": [
      "Entities in first training sentence: []\n"
     ]
    }
   ],
   "source": [
    "nlp_sm = spacy.load(\"en_core_web_sm\")\n",
    "nlp_md = spacy.load(\"en_core_web_md\")\n",
    "\n",
    "def extract_entities(sent):\n",
    "    entities = []\n",
    "    start = None\n",
    "    end = None\n",
    "    label = None\n",
    "    text_tokens = [word for word, tag in sent]\n",
    "    \n",
    "    for i, (word, tag) in enumerate(sent):\n",
    "        if tag.startswith(\"B-\"):\n",
    "            if start is not None:\n",
    "                entities.append((\" \".join(text_tokens[start:end]), label))\n",
    "            start = i\n",
    "            end = i+1\n",
    "            label = tag[2:]\n",
    "        elif tag.startswith(\"I-\") and start is not None:\n",
    "            end += 1\n",
    "        else:\n",
    "            if start is not None:\n",
    "                entities.append((\" \".join(text_tokens[start:end]), label))\n",
    "                start = None\n",
    "                end = None\n",
    "                label = None\n",
    "    if start is not None:\n",
    "        entities.append((\" \".join(text_tokens[start:end]), label))\n",
    "    return entities\n",
    "\n",
    "print(\"Entities in first training sentence:\", extract_entities(train_data[0]))"
   ]
  },
  {
   "cell_type": "code",
   "execution_count": 8,
   "id": "e2f0b0cd-a13e-4ae5-81b5-9b3272c3fdf4",
   "metadata": {},
   "outputs": [
    {
     "name": "stdout",
     "output_type": "stream",
     "text": [
      "\n",
      "=== Test Article 1 ===\n",
      "Small model entities: []\n",
      "Transformer model entities: [('-DOCSTART-', 'ORG')]\n",
      "\n",
      "--- Small model visualization ---\n"
     ]
    },
    {
     "name": "stderr",
     "output_type": "stream",
     "text": [
      "C:\\Users\\COMPUMARTS\\miniconda3\\Lib\\site-packages\\spacy\\displacy\\__init__.py:213: UserWarning: [W006] No entities to visualize found in Doc object. If this is surprising to you, make sure the Doc was processed using a model that supports named entity recognition, and check the `doc.ents` property manually if necessary.\n",
      "  warnings.warn(Warnings.W006)\n"
     ]
    },
    {
     "data": {
      "text/html": [
       "<span class=\"tex2jax_ignore\"><div class=\"entities\" style=\"line-height: 2.5; direction: ltr\">-DOCSTART-</div></span>"
      ],
      "text/plain": [
       "<IPython.core.display.HTML object>"
      ]
     },
     "metadata": {},
     "output_type": "display_data"
    },
    {
     "name": "stdout",
     "output_type": "stream",
     "text": [
      "\n",
      "--- Transformer model visualization ---\n"
     ]
    },
    {
     "data": {
      "text/html": [
       "<span class=\"tex2jax_ignore\"><div class=\"entities\" style=\"line-height: 2.5; direction: ltr\">\n",
       "<mark class=\"entity\" style=\"background: #7aecec; padding: 0.45em 0.6em; margin: 0 0.25em; line-height: 1; border-radius: 0.35em;\">\n",
       "    -DOCSTART-\n",
       "    <span style=\"font-size: 0.8em; font-weight: bold; line-height: 1; border-radius: 0.35em; vertical-align: middle; margin-left: 0.5rem\">ORG</span>\n",
       "</mark>\n",
       "</div></span>"
      ],
      "text/plain": [
       "<IPython.core.display.HTML object>"
      ]
     },
     "metadata": {},
     "output_type": "display_data"
    },
    {
     "name": "stdout",
     "output_type": "stream",
     "text": [
      "\n",
      "=== Test Article 2 ===\n",
      "Small model entities: [('DEFEAT', 'ORG')]\n",
      "Transformer model entities: [('SOCCER - JAPAN', 'ORG'), ('SURPRISE', 'GPE')]\n",
      "\n",
      "--- Small model visualization ---\n"
     ]
    },
    {
     "data": {
      "text/html": [
       "<span class=\"tex2jax_ignore\"><div class=\"entities\" style=\"line-height: 2.5; direction: ltr\">SOCCER - JAPAN GET LUCKY WIN , CHINA IN SURPRISE \n",
       "<mark class=\"entity\" style=\"background: #7aecec; padding: 0.45em 0.6em; margin: 0 0.25em; line-height: 1; border-radius: 0.35em;\">\n",
       "    DEFEAT\n",
       "    <span style=\"font-size: 0.8em; font-weight: bold; line-height: 1; border-radius: 0.35em; vertical-align: middle; margin-left: 0.5rem\">ORG</span>\n",
       "</mark>\n",
       " .</div></span>"
      ],
      "text/plain": [
       "<IPython.core.display.HTML object>"
      ]
     },
     "metadata": {},
     "output_type": "display_data"
    },
    {
     "name": "stdout",
     "output_type": "stream",
     "text": [
      "\n",
      "--- Transformer model visualization ---\n"
     ]
    },
    {
     "data": {
      "text/html": [
       "<span class=\"tex2jax_ignore\"><div class=\"entities\" style=\"line-height: 2.5; direction: ltr\">\n",
       "<mark class=\"entity\" style=\"background: #7aecec; padding: 0.45em 0.6em; margin: 0 0.25em; line-height: 1; border-radius: 0.35em;\">\n",
       "    SOCCER - JAPAN\n",
       "    <span style=\"font-size: 0.8em; font-weight: bold; line-height: 1; border-radius: 0.35em; vertical-align: middle; margin-left: 0.5rem\">ORG</span>\n",
       "</mark>\n",
       " GET LUCKY WIN , CHINA IN \n",
       "<mark class=\"entity\" style=\"background: #feca74; padding: 0.45em 0.6em; margin: 0 0.25em; line-height: 1; border-radius: 0.35em;\">\n",
       "    SURPRISE\n",
       "    <span style=\"font-size: 0.8em; font-weight: bold; line-height: 1; border-radius: 0.35em; vertical-align: middle; margin-left: 0.5rem\">GPE</span>\n",
       "</mark>\n",
       " DEFEAT .</div></span>"
      ],
      "text/plain": [
       "<IPython.core.display.HTML object>"
      ]
     },
     "metadata": {},
     "output_type": "display_data"
    },
    {
     "name": "stdout",
     "output_type": "stream",
     "text": [
      "\n",
      "=== Test Article 3 ===\n",
      "Small model entities: [('Nadim Ladki', 'PERSON')]\n",
      "Transformer model entities: [('Nadim Ladki', 'PERSON')]\n",
      "\n",
      "--- Small model visualization ---\n"
     ]
    },
    {
     "data": {
      "text/html": [
       "<span class=\"tex2jax_ignore\"><div class=\"entities\" style=\"line-height: 2.5; direction: ltr\">\n",
       "<mark class=\"entity\" style=\"background: #aa9cfc; padding: 0.45em 0.6em; margin: 0 0.25em; line-height: 1; border-radius: 0.35em;\">\n",
       "    Nadim Ladki\n",
       "    <span style=\"font-size: 0.8em; font-weight: bold; line-height: 1; border-radius: 0.35em; vertical-align: middle; margin-left: 0.5rem\">PERSON</span>\n",
       "</mark>\n",
       "</div></span>"
      ],
      "text/plain": [
       "<IPython.core.display.HTML object>"
      ]
     },
     "metadata": {},
     "output_type": "display_data"
    },
    {
     "name": "stdout",
     "output_type": "stream",
     "text": [
      "\n",
      "--- Transformer model visualization ---\n"
     ]
    },
    {
     "data": {
      "text/html": [
       "<span class=\"tex2jax_ignore\"><div class=\"entities\" style=\"line-height: 2.5; direction: ltr\">\n",
       "<mark class=\"entity\" style=\"background: #aa9cfc; padding: 0.45em 0.6em; margin: 0 0.25em; line-height: 1; border-radius: 0.35em;\">\n",
       "    Nadim Ladki\n",
       "    <span style=\"font-size: 0.8em; font-weight: bold; line-height: 1; border-radius: 0.35em; vertical-align: middle; margin-left: 0.5rem\">PERSON</span>\n",
       "</mark>\n",
       "</div></span>"
      ],
      "text/plain": [
       "<IPython.core.display.HTML object>"
      ]
     },
     "metadata": {},
     "output_type": "display_data"
    }
   ],
   "source": [
    "for i, text in enumerate(test_texts[:3]):\n",
    "    print(f\"\\n=== Test Article {i+1} ===\")\n",
    "    \n",
    "    doc_sm = nlp_sm(text)\n",
    "    doc_md = nlp_md(text)\n",
    "    \n",
    "    ents_sm = [(ent.text, ent.label_) for ent in doc_sm.ents]\n",
    "    ents_md = [(ent.text, ent.label_) for ent in doc_md.ents]\n",
    "    \n",
    "    print(\"Small model entities:\", ents_sm)\n",
    "    print(\"Medium model entities:\", ents_md)\n",
    "    \n",
    "    print(\"\\n--- Small model visualization ---\")\n",
    "    displacy.render(doc_sm, style=\"ent\", jupyter=True)\n",
    "    \n",
    "    print(\"\\n--- Medium model visualization ---\")\n",
    "    displacy.render(doc_md, style=\"ent\", jupyter=True)"
   ]
  },
  {
   "cell_type": "code",
   "execution_count": 9,
   "id": "cf62fd7b-2f94-4b72-bf7e-0666d858adac",
   "metadata": {},
   "outputs": [
    {
     "name": "stdout",
     "output_type": "stream",
     "text": [
      "   num_ents_sm  num_ents_trf\n",
      "0            0             1\n",
      "1            1             2\n",
      "2            1             1\n",
      "3            3             3\n",
      "4            6             6\n"
     ]
    }
   ],
   "source": [
    "df_test = pd.DataFrame({\"text\": test_texts})\n",
    "df_test['ents_sm'] = df_test['text'].apply(lambda x: [(ent.text, ent.label_) for ent in nlp_sm(x).ents])\n",
    "df_test['ents_md'] = df_test['text'].apply(lambda x: [(ent.text, ent.label_) for ent in nlp_md(x).ents])\n",
    "df_test['num_ents_sm'] = df_test['ents_sm'].apply(len)\n",
    "df_test['num_ents_md'] = df_test['ents_md'].apply(len)\n",
    "\n",
    "print(df_test[['num_ents_sm','num_ents_md']].head())"
   ]
  }
 ],
 "metadata": {
  "kernelspec": {
   "display_name": "Python 3 (ipykernel)",
   "language": "python",
   "name": "python3"
  },
  "language_info": {
   "codemirror_mode": {
    "name": "ipython",
    "version": 3
   },
   "file_extension": ".py",
   "mimetype": "text/x-python",
   "name": "python",
   "nbconvert_exporter": "python",
   "pygments_lexer": "ipython3",
   "version": "3.13.5"
  }
 },
 "nbformat": 4,
 "nbformat_minor": 5
}
